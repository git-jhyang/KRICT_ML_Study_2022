{
  "nbformat": 4,
  "nbformat_minor": 0,
  "metadata": {
    "colab": {
      "name": "chaptor3.4-3.7 (다중분류).ipynb",
      "provenance": [],
      "collapsed_sections": []
    },
    "kernelspec": {
      "name": "python3",
      "display_name": "Python 3"
    },
    "language_info": {
      "name": "python"
    }
  },
  "cells": [
    {
      "cell_type": "code",
      "execution_count": 54,
      "metadata": {
        "colab": {
          "base_uri": "https://localhost:8080/"
        },
        "id": "G_imqazXM4f4",
        "outputId": "ab40f725-982b-43a8-a09e-bab22971d28a"
      },
      "outputs": [
        {
          "output_type": "stream",
          "name": "stdout",
          "text": [
            "dict_keys(['data', 'target', 'frame', 'categories', 'feature_names', 'target_names', 'DESCR', 'details', 'url'])\n"
          ]
        }
      ],
      "source": [
        "## 분류 모델링을 위한 데이터셋 준비## \n",
        "\n",
        "import numpy as np #행렬의 연산 처리  \n",
        "import pandas as pd #데이터 분석을 위한 데이터 프레임 제공\n",
        "import matplotlib as mpl \n",
        "import matplotlib.pyplot as plt #다양한 데이터 시각화(그래프)\n",
        "\n",
        "#MNIST 데이터셋 불러오기([70000 rows x 785 columns])\n",
        "from sklearn.datasets import fetch_openml\n",
        "#data load\n",
        "mnist = fetch_openml('mnist_784', version = 1, as_frame=False)\n",
        "#데이터 key 값 확인(key값에 대응하는 value 값 호출 용이함)\n",
        "print(mnist.keys())"
      ]
    },
    {
      "cell_type": "code",
      "source": [
        "#특정 key 값 선택\n",
        "#data: 샘플이 하나의 행, 특성이 하나의 열로 구성된 data 배열\n",
        "#target: 레이블 배열(0~9 클래스)\n",
        "x, y = mnist[\"data\"], mnist[\"target\"]\n",
        "#x 및 y 형태 출력\n",
        "#70000개 이미지, 각 이미지는 784개 특성(28*28 픽셀)\n",
        "print(x.shape)\n",
        "print(y.shape)"
      ],
      "metadata": {
        "colab": {
          "base_uri": "https://localhost:8080/"
        },
        "id": "Bn58kzMcQww1",
        "outputId": "86eccc96-6bb6-4208-9126-7d51750c3913"
      },
      "execution_count": 3,
      "outputs": [
        {
          "output_type": "stream",
          "name": "stdout",
          "text": [
            "(70000, 784)\n",
            "(70000,)\n"
          ]
        }
      ]
    },
    {
      "cell_type": "code",
      "source": [
        "#feature 백터 추출(784행)\n",
        "some_digit = x[0] \n",
        "print(some_digit.shape)\n",
        "#레이블 정수로 변환(현재 레이블 문자열)\n",
        "y = y.astype(np.uint8)"
      ],
      "metadata": {
        "colab": {
          "base_uri": "https://localhost:8080/"
        },
        "id": "nA5-yTMbUEEo",
        "outputId": "402b4886-da0f-498e-e354-45fa449826b2"
      },
      "execution_count": 4,
      "outputs": [
        {
          "output_type": "stream",
          "name": "stdout",
          "text": [
            "(784,)\n"
          ]
        }
      ]
    },
    {
      "cell_type": "code",
      "source": [
        "#training 세트, test 세트 분리\n",
        "#training 세트: 훈련세트 입력값 및 예측값 중 0~60000 인덱스 사용\n",
        "#test 세트: 테스트세트 입력값 및 예측값 중 60000~마지막 인덱스 사용\n",
        "x_train, x_test, y_train, y_test = x[:60000], x[:60000], y[:60000], y[60000:]"
      ],
      "metadata": {
        "id": "mPTe-3s3X6Do"
      },
      "execution_count": 48,
      "outputs": []
    },
    {
      "cell_type": "code",
      "source": [
        "##3.4 다중 분류##\n",
        "##계산 처리 시간이 길어 훈련 세트 수 조정##\n",
        "\n",
        "#사이킷런 알고리즘에 의해 SVM -> OvO 전략으로 45개 이진분류 훈련 -> 결정점수 가장 높은 클래스 선택  \n",
        "from sklearn.svm import SVC\n",
        "svm_clf = SVC(gamma=\"auto\", random_state=42) #결과 재현성을 위해 random_state 매개변수 지정\n",
        "svm_clf.fit(x_train[:1000], y_train[:1000]) \n",
        "svm_clf.predict([some_digit]) \n",
        "\n",
        "#샘플 당 0~9 클래스에 대한 결정점수 확인\n",
        "some_digit_scores = svm_clf.decision_function([some_digit])\n",
        "print(some_digit_scores)\n",
        "#결정점수가 높은 클래스 출력 \n",
        "print('#결정점수가 가장 높은 클래스:',np.argmax(some_digit_scores))\n",
        "\n",
        "#교차검증(교차 검증세트=3) \n",
        "from sklearn.model_selection import cross_val_score, cross_validate\n",
        "score = cross_val_score(svm_clf,x_train[:1000], y_train[:1000], cv=3, scoring = \"accuracy\")\n",
        "print('#교차 검증별 정확도:', format(np.round(score,4)))"
      ],
      "metadata": {
        "colab": {
          "base_uri": "https://localhost:8080/"
        },
        "id": "U0VEFO6QPDxy",
        "outputId": "85378917-4f7c-4e78-d4fd-b32218c3b2cc"
      },
      "execution_count": 27,
      "outputs": [
        {
          "output_type": "stream",
          "name": "stdout",
          "text": [
            "[[ 2.81585438  7.09167958  3.82972099  0.79365551  5.8885703   9.29718395\n",
            "   1.79862509  8.10392157 -0.228207    4.83753243]]\n",
            "#결정점수가 가장 높은 클래스: 5\n",
            "#교차 검증별 정확도: [0.1168 0.1171 0.1922]\n"
          ]
        }
      ]
    },
    {
      "cell_type": "code",
      "source": [
        "#SVM 기반으로 OvR 사용\n",
        "from sklearn.multiclass import OneVsRestClassifier\n",
        "ovr_clf = OneVsRestClassifier(SVC(gamma=\"auto\", random_state=42)) #결과 재현성을 위해 random_state 매개변수 지정\n",
        "ovr_clf.fit(x_train[:1000], y_train[:1000]) \n",
        "ovr_clf.predict([some_digit]) \n",
        "\n",
        "#샘플 당 0~9 클래스에 대한 결정점수 확인\n",
        "some_digit_scores = ovr_clf.decision_function([some_digit])\n",
        "print(some_digit_scores)\n",
        "#결정점수가 높은 클래스 출력 \n",
        "print('#결정점수가 가장 높은 클래스:',np.argmax(some_digit_scores))\n",
        "\n",
        "#교차검증(교차 검증세트=3) \n",
        "from sklearn.model_selection import cross_val_score, cross_validate\n",
        "score = cross_val_score(ovr_clf,x_train[:1000], y_train[:1000], cv=3, scoring = \"accuracy\")\n",
        "print('#교차 검증별 정확도:', format(np.round(score,4)))\n"
      ],
      "metadata": {
        "colab": {
          "base_uri": "https://localhost:8080/"
        },
        "id": "30UYGlzKQvtU",
        "outputId": "305aa8b3-791a-410b-b168-8689774a4462"
      },
      "execution_count": 28,
      "outputs": [
        {
          "output_type": "stream",
          "name": "stdout",
          "text": [
            "[[-0.9990256  -0.99963766 -0.99949709 -0.99902667 -0.99986906  0.10132159\n",
            "  -0.99976287 -0.99933311 -0.99943631 -0.99924045]]\n",
            "#결정점수가 가장 높은 클래스: 5\n",
            "#교차 검증별 정확도: [0.1168 0.1171 0.1171]\n"
          ]
        }
      ]
    },
    {
      "cell_type": "code",
      "source": [
        "#확률적 경사 하강법(SCG) 분류모델 활용(훈련샘플 하나씩 독립적 처리-큰 데이터 셋 효율적 처리)\n",
        "#샘플을 직접 다중 분류 가능하므로 OvR 또는 OvO 적용 불필요\n",
        "from sklearn.linear_model import SGDClassifier\n",
        "sgd_clf = SGDClassifier(random_state=42) #결과 재현성을 위해 random_state 매개변수 지정\n",
        "sgd_clf.fit(x_train[:1000], y_train[:1000])\n",
        "sgd_clf.predict([some_digit])\n",
        "\n",
        "#샘플 당 0~9 클래스에 대한 결정점수 확인\n",
        "some_digit_scores = sgd_clf.decision_function([some_digit])\n",
        "print(some_digit_scores)\n",
        "#결정점수가 높은 클래스 출력 \n",
        "#print(np.argmax(some_digit_scores))\n",
        "print('#결정점수가 가장 높은 클래스:',np.argmax(some_digit_scores))\n",
        "\n",
        "\n",
        "#교차검증(교차 검증세트=3) \n",
        "from sklearn.model_selection import cross_val_score, cross_validate\n",
        "score = cross_val_score(sgd_clf,x_train[:1000], y_train[:1000], cv=3, scoring = \"accuracy\")\n",
        "print('#교차 검증별 정확도:', format(np.round(score,4)))\n",
        "\n",
        "#스케일 조정\n",
        "from sklearn.preprocessing import StandardScaler\n",
        "scaler = StandardScaler() #평균, 표준편차=1 로 조정하여 모든 특성이 같은 크기를 갖게 함\n",
        "x_train_scaled = scaler.fit_transform(x_train.astype(np.float64)) #실수형 변환\n",
        "score = cross_val_score(sgd_clf,x_train_scaled[:1000], y_train[:1000], cv=3, scoring = \"accuracy\")\n",
        "print('#교차 검증별 정확도:', format(np.round(score,4)))"
      ],
      "metadata": {
        "colab": {
          "base_uri": "https://localhost:8080/"
        },
        "id": "pvLbUOgae2Ih",
        "outputId": "0e44b0dd-4f01-4e1e-d65b-fa7f2d8b5ce3"
      },
      "execution_count": 30,
      "outputs": [
        {
          "output_type": "stream",
          "name": "stdout",
          "text": [
            "[[-6049581.97985829 -6138036.45541781 -3886281.38604606  -604692.42366776\n",
            "  -6948311.32017537   914498.2913215  -6855666.78647961 -3866146.33271573\n",
            "  -4016434.08430155 -3209136.89074954]]\n",
            "#결정점수가 가장 높은 클래스: 5\n",
            "#교차 검증별 정확도: [0.8323 0.8288 0.7928]\n",
            "#교차 검증별 정확도: [0.8443 0.8138 0.7718]\n"
          ]
        }
      ]
    },
    {
      "cell_type": "code",
      "source": [
        "##3.5 에러 분석##\n",
        "#가능성이 높은 모델의 모델 성능 향상을 위한 하나의 방법\n",
        "#교차 검증별 정확도가 높은 SGD 모델로 계산  \n",
        "from sklearn.model_selection import cross_val_predict\n",
        "from sklearn.metrics import confusion_matrix\n",
        "y_train_pred = cross_val_predict(sgd_clf, x_train[:1000], y_train[:1000], cv=3)\n",
        "conf_mx = confusion_matrix(y_train[:1000], y_train_pred)\n",
        "print(conf_mx)\n",
        "\n",
        "#오차행렬 이미지화(실제 클래스별 이미지에 대한 예측된 분류 정도) \n",
        "#행: 훈련 데이터(클래스별 이미지); 열: 훈련데이터 예측값(클래스별 분류된 이미지)\n",
        "plt.matshow(conf_mx, cmap = plt.cm.gray)\n",
        "\n",
        "#오차행렬 이미지화(오분류 비율)\n",
        "#axis =1 은 row-wise add\n",
        "row_sums = conf_mx.sum(axis=1, keepdims=True) #기존 행렬 유지\n",
        "norm_conf_mx = conf_mx / row_sums\n",
        "\n",
        "#오류만 집중적으로 분석하고자 주대각선만 0으로 채움)\n",
        "np.fill_diagonal(norm_conf_mx,0)\n",
        "plt.matshow(norm_conf_mx, cmap = plt.cm.gray)\n",
        "plt.show()\n"
      ],
      "metadata": {
        "colab": {
          "base_uri": "https://localhost:8080/",
          "height": 720
        },
        "id": "1KjvJBl2nnH0",
        "outputId": "cd1ddd81-ba50-4ba0-8781-90ae5c31fc57"
      },
      "execution_count": 47,
      "outputs": [
        {
          "output_type": "stream",
          "name": "stdout",
          "text": [
            "[[ 86   0   3   0   0   7   0   0   1   0]\n",
            " [  0 105   3   0   0   5   0   1   2   0]\n",
            " [  1   6  77   2   2   2   1   1   4   3]\n",
            " [  0   0   6  76   0   6   1   2   0   2]\n",
            " [  0   0   1   1  86   3   1   0   4   9]\n",
            " [  0   1   2   3   3  65   3   1  11   3]\n",
            " [  1   1   1   0   1   4  83   0   2   1]\n",
            " [  3   1   2   0   3   0   0 102   1   5]\n",
            " [  0   3   1   1   1   8   2   3  64   4]\n",
            " [  1   0   1   0   3   5   0  13   3  74]]\n"
          ]
        },
        {
          "output_type": "display_data",
          "data": {
            "text/plain": [
              "<Figure size 288x288 with 1 Axes>"
            ],
            "image/png": "[encoded data removed]"
          },
          "metadata": {
            "needs_background": "light"
          }
        },
        {
          "output_type": "display_data",
          "data": {
            "text/plain": [
              "<Figure size 288x288 with 1 Axes>"
            ],
            "image/png": "[encoded data removed]"
          },
          "metadata": {
            "needs_background": "light"
          }
        }
      ]
    },
    {
      "cell_type": "code",
      "source": [
        "##3.6 다중 레이블 분류##\n",
        "#k-최근접 이웃: 데이터로부터 거리가 가까운 k개의 다른 데이터의 레이블 참조하여 분류\n",
        "from sklearn.neighbors import KNeighborsClassifier\n",
        "y_train_large = (y_train >=7) # 첫번째, 클래스가 7 이상인지\n",
        "y_train_odd = (y_train % 2 == 1) # 두번째, 홀수 \n",
        "y_multilabel = np.c_[y_train_large, y_train_odd]\n",
        "\n",
        "knn_clf = KNeighborsClassifier()\n",
        "knn_clf.fit(x_train, y_multilabel)\n",
        "\n",
        "#클래스 5에 대한 다중 레이블 분류 \n",
        "knn_clf.predict([some_digit])\n",
        "\n",
        "#F1 score 값 \n",
        "from sklearn.metrics import f1_score\n",
        "y_train_knn_pred = cross_val_predict(knn_clf, x_train, y_multilabel, cv=3)\n",
        "f1_score = f1_score(y_multilabel, y_train_knn_pred, average=\"macro\") #모든 레이블의 가중치 동일\n",
        "print('#f1 score:', format(np.round(f1_score,4)))"
      ],
      "metadata": {
        "colab": {
          "base_uri": "https://localhost:8080/"
        },
        "id": "1HQGepe0y-8q",
        "outputId": "e0919f7f-7d70-4dee-e594-e0bea5740fec"
      },
      "execution_count": 61,
      "outputs": [
        {
          "output_type": "stream",
          "name": "stdout",
          "text": [
            "#f1 score: 0.9764\n"
          ]
        }
      ]
    },
    {
      "cell_type": "code",
      "source": [
        "##3.7 다중 출력##\n",
        "#레이블 하나 당 여러개 픽셀 값을 가질 수 있음\n",
        "#예제에서는 이를 위해 이미지 잡음 제거 시스템 보여줌\n",
        "noise = np.random.randint(0,100, (len(x_train), 784)) #픽셀에 노이즈 추가 \n",
        "x_train_mod = x_train + noise\n",
        "noise = np.random.randint(0,100, (len(x_test), 784))\n",
        "x_test_mod = x_test + noise\n",
        "y_train_mod = x_train\n",
        "y_test_mod = x_test\n",
        "\n",
        "def plot_digit(data):\n",
        "  image = data.reshape(28,28)\n",
        "  plt.imshow(image, cmap = \"gist_gray\")\n",
        "  plt.axis(\"off\")\n",
        "\n",
        "#노이즈 입힌 이미지, 깨끗한 이미지 \n",
        "some_index = 0 #이미지 값 \n",
        "plt.subplot(121); plot_digit(x_test_mod[some_index])\n",
        "plt.subplot(122); plot_digit(y_test_mod[some_index])\n",
        "plt.show()\n",
        "\n",
        "#분류모델 훈련키셔 이미지를 깨끗하게 만들었을 때의 결과\n",
        "knn_clf.fit(x_train_mod, y_train_mod)\n",
        "clean_digit = knn_clf.predict([x_test_mod[some_index]])\n",
        "plot_digit(clean_digit)"
      ],
      "metadata": {
        "colab": {
          "base_uri": "https://localhost:8080/",
          "height": 414
        },
        "id": "jrhyqvSe9n66",
        "outputId": "665a7abc-77ec-40bd-9f51-a80c10f80efb"
      },
      "execution_count": 67,
      "outputs": [
        {
          "output_type": "display_data",
          "data": {
            "text/plain": [
              "<Figure size 432x288 with 2 Axes>"
            ],
            "image/png": "[encoded data removed]"
          },
          "metadata": {
            "needs_background": "light"
          }
        },
        {
          "output_type": "display_data",
          "data": {
            "text/plain": [
              "<Figure size 432x288 with 1 Axes>"
            ],
            "image/png": "[encoded data removed]"
          },
          "metadata": {
            "needs_background": "light"
          }
        }
      ]
    }
  ]
}